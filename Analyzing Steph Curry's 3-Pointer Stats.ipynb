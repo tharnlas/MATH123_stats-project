{
 "cells": [
  {
   "cell_type": "markdown",
   "metadata": {},
   "source": [
    "<i>June 2017</i>: \n",
    "\n",
    "\n",
    "# Introduction\n",
    "\n",
    "With the 2017 NBA Finals in full swing and as a fan of the Golden State Warriors, I thought it would be interesting to analyze game statistics relevant to both the Warriors and the Cleveland Cavaliers (the team they're facing in the finals). Using the hypothesis test below, I analyze Stephen Curry’s mean 3-point field goal percentage in home versus away games in the 2016-2017 Regular Season.\n"
   ]
  },
  {
   "cell_type": "markdown",
   "metadata": {},
   "source": [
    "## Hypothesis Test: Home Field Advantage and 3-Point Shooting\n",
    "\n",
    "A two-time winner of the NBA’s Most Valuable Player Award, Curry is considered one of the top 3-point shooters in the league with a record of thirteen 3-pointers made in a single NBA game [1][2]. I am interested in whether Curry’s mean 3-point percentage in home games differs from his mean 3-point percentage in away games."
   ]
  },
  {
   "cell_type": "markdown",
   "metadata": {},
   "source": [
    "### Data Collection\n",
    "\n",
    "The data for my test was collected from Fox Sports’ online database of individual player statistics for the Warriors during the 2016-2017 Regular Season. The season consisted of 82 games with 41 games played at the Warriors’ home court and the other 41 played away from home. The data I specifically extracted from Fox Sports’ website was the 3-point Field Goal Percentage (which I will call 3P% for short) for each of the games in the season. This statistic gives the ratio of the number of 3-point shots successfully made divided by the number of overall attempts. I separated the home-game data and the away-game data into two separate sample populations of “Home” and “Away.” Because the games in the season are recent and are assumed to be independent of one another, the data comes from random samples that are fairly representative of Curry’s performance.\n",
    "\n"
   ]
  },
  {
   "cell_type": "markdown",
   "metadata": {},
   "source": [
    "### Hypotheses\n",
    "\n",
    "Considering this data, I want to know: Is there sufficient statistical evidence to claim that Curry’s mean 3-point percentage for home games is greater than his mean 3-point percentage for away games?\n",
    "\n",
    "Since my test compares two sets of data, I use the null hypothesis that there is no difference between the population means for Curry’s 3-point percentages. My alternative hypothesis is that the population mean for the 3-point percentages will be greater for Curry’s home games. I chose this based on my belief that most players or teams will likely perform better if they are surrounded by a supportive crowd. More formally:\n",
    "\n",
    "Let $Y_1$ be the 3P% (3-point field goal percentage) for Curry in a home game during the 2016-2017 Regular Season, and $Y_2$ be the 3P% for Curry in an away game during the same season.\n",
    "\n",
    "$H_o: \\mu_1 = \\mu_2 $ (The mean 3P%s for home and away games are the same.)\n",
    "\n",
    "$H_a: \\mu_1 > \\mu_2 $ (The mean 3P%s for home and away games differ.)\n",
    "    \n",
    "   "
   ]
  },
  {
   "cell_type": "markdown",
   "metadata": {},
   "source": [
    "### Test \n",
    "\n",
    "To test my hypothesis, I will perform a Z-test for the differences of the means. Using the Z-test is possible because the sample sizes of both my data sets are sufficiently large ($n_1 = n_2 = 41 > 30$). By the Central Limit Theorem, the sample means $\\overline{Y1}$ and $\\overline{Y_2}$ have normal distributions, which allows me to use the Z standard random variable.\n",
    "\n",
    "For my two samples, I know the following:\n",
    "\n",
    "$Home: n_1 = 41, \\overline{y_1} = 0.441317, s_1^2 = 0.0287540$\n",
    "\n",
    "$Away: n_2 = 41, \\overline{y_2} = 0.332032, s_2^2 = 0.0347882$\n",
    "\n",
    "<br> \n",
    "The sample means above are found by summing the 3-point percentages for the home and away games and dividing by the sample sizes, respectively.\n",
    "\n",
    "<br> \n",
    "$\\overline{y_1} = \\frac{0.3+0.333+0.765+0.5+…+0.375+0+0.750+0.35741}{41}=0.441317 $\n",
    "\n",
    "$\\overline{y_2} = \\frac{0.4+ 0.625+0.5+0+⋯+0.333+0.273+0.5+0.61541}{41}=0.0347882 $\n",
    "\n",
    "<br>\n",
    "I focus on the mean of the 3-point ratios rather than the ratio of the means because the former gives a better idea of Curry’s 3-point shooting success rate for a single game; the latter would put more weight on the number of attempts made during the season. [4]\n"
   ]
  },
  {
   "cell_type": "markdown",
   "metadata": {
    "collapsed": true
   },
   "source": [
    "The sample standard deviations used above were computed as follows:\n",
    "\n",
    "\n",
    "\n",
    "$s_1^2=\\frac{1}{41−1} ( (0.3−0.441317)^2+(0.333−0.441317)^2+(0.765−0.441317)^2+⋯+(0.750−0.441317)^2+(0.357−0.441317)^2) =0.0287540$\n",
    "\n",
    "$s_2^2=\\frac{1}{41−1} ((0.4−0.332032)^2+(0.625−0.332032)^2+(0.5−0.332032)^2+⋯+(0.5−0.332032)^2+(0.615−0.332032)^2)\n",
    "=0.0347882$"
   ]
  },
  {
   "cell_type": "markdown",
   "metadata": {},
   "source": [
    "Assuming $H_o: \\mu_1−\\mu_2=0$, the Z test statistic is:\n",
    "\n",
    "<br>\n",
    "$z= \\frac{(y1−y2)−(\\mu_1−\\mu_2)}{\\sqrt{\\sigma_1^2n_1+\\sigma_2^2n_2}} =\\frac{(0.441317−0.332032) − 0}{\\sqrt{0.028754041+0.34788241}} = 0.1092850.0393676\n",
    "=2.776014 $\n",
    "\n",
    "<br>"
   ]
  },
  {
   "cell_type": "markdown",
   "metadata": {},
   "source": [
    "### Conclusions\n",
    "\n",
    "At $\\alpha=0.05,z_\\alpha=1.645$. Since $ 2.776014 > 1.645 $, I can reject the null hypothesis and accept the alternative hypothesis that Curry’s average 3-point percentage in his home games is higher than the 3-point percentage in his away-games.\n",
    "\n",
    "The p-value is the smallest level of significance 𝛼 for which the observed data indicate that the null hypothesis should be rejected. My p-value for this test is $P(z>2.776014)=0.00275136$. Thus, for $\\alpha>0.00275136$, I can reject the null hypothesis that the mean 3-point percentage for the home games is the same as the mean 3-point percentage for the away games.\n",
    "\n",
    "The result is statistically significant, which means that it is unlikely that we would have observed a value as extreme as the one obtained if the null hypothesis were true. In relation to the p-value, there is only a 0.27514% chance (which is very, very small) that $z$ would equal 2.77601 if there was actually no difference between Curry’s mean 3-point percentages in his home games and his away-games.\n",
    "\n",
    "Although I can accept $H_a$, since my test only analyzes the 3P% statistic in a single season, it may not entirely be reflective of Curry’s performance in past seasons in home and away games. There are also several confounding factors or “lurking variables” that may influence his 3-point performance in a game beyond a home court advantage. For example, travel fatigue, level of opponent competitiveness, and team injuries are factors which should be examined or held constant to get a more accurate statistical analysis of Curry’s mean 3P% on different courts.\n",
    "\n"
   ]
  }
 ],
 "metadata": {
  "kernelspec": {
   "display_name": "Python 3",
   "language": "python",
   "name": "python3"
  },
  "language_info": {
   "codemirror_mode": {
    "name": "ipython",
    "version": 3
   },
   "file_extension": ".py",
   "mimetype": "text/x-python",
   "name": "python",
   "nbconvert_exporter": "python",
   "pygments_lexer": "ipython3",
   "version": "3.6.3"
  }
 },
 "nbformat": 4,
 "nbformat_minor": 2
}
